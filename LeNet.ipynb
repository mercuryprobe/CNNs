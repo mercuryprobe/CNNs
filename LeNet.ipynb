{
 "cells": [
  {
   "attachments": {},
   "cell_type": "markdown",
   "metadata": {},
   "source": [
    "# LeNet\n",
    "This program includes: \n",
    "    - A simple implementation of LeNet (LeCun et al., 1998)\n",
    "    - A modified version of LeNet with trial/error based improvements\n",
    "\n",
    "References: \n",
    "    - Dive Into Deep Learning, A. Zhang et al\n",
    "    - Build a Simple Neural Network Using PyTorch, Ramesh Paudel\n"
   ]
  },
  {
   "cell_type": "code",
   "execution_count": 42,
   "metadata": {},
   "outputs": [],
   "source": [
    "import torch\n",
    "from torch import nn\n",
    "from torchvision.datasets import MNIST\n",
    "from torchvision import transforms\n",
    "from PIL import Image\n",
    "import numpy as np\n",
    "from torch.utils.data import DataLoader\n",
    "import matplotlib.pyplot as plt"
   ]
  },
  {
   "cell_type": "code",
   "execution_count": 43,
   "metadata": {},
   "outputs": [],
   "source": [
    "train_dataset = MNIST(root=\"./\", train=True, download=True, transform=transforms.ToTensor())\n",
    "test_dataset = MNIST(root=\"./\", train=False, download=True, transform=transforms.ToTensor())"
   ]
  },
  {
   "cell_type": "code",
   "execution_count": 44,
   "metadata": {},
   "outputs": [],
   "source": [
    "train_dataloader = DataLoader(train_dataset, batch_size=128, shuffle=True)\n",
    "test_dataloader = DataLoader(test_dataset, batch_size=1, shuffle=True)"
   ]
  },
  {
   "cell_type": "code",
   "execution_count": 45,
   "metadata": {},
   "outputs": [
    {
     "name": "stdout",
     "output_type": "stream",
     "text": [
      "Sequential(\n",
      "  (0): LazyConv2d(0, 6, kernel_size=(5, 5), stride=(1, 1), padding=(2, 2))\n",
      "  (1): Sigmoid()\n",
      "  (2): AvgPool2d(kernel_size=2, stride=2, padding=0)\n",
      "  (3): LazyConv2d(0, 16, kernel_size=(5, 5), stride=(1, 1))\n",
      "  (4): Sigmoid()\n",
      "  (5): AvgPool2d(kernel_size=2, stride=2, padding=0)\n",
      "  (6): Flatten(start_dim=1, end_dim=-1)\n",
      "  (7): LazyLinear(in_features=0, out_features=120, bias=True)\n",
      "  (8): Sigmoid()\n",
      "  (9): LazyLinear(in_features=0, out_features=84, bias=True)\n",
      "  (10): Sigmoid()\n",
      "  (11): LazyLinear(in_features=0, out_features=10, bias=True)\n",
      ")\n"
     ]
    },
    {
     "name": "stderr",
     "output_type": "stream",
     "text": [
      "c:\\Users\\mercu\\AppData\\Local\\Programs\\Python\\Python310\\lib\\site-packages\\torch\\nn\\modules\\lazy.py:178: UserWarning: Lazy modules are a new feature under heavy development so changes to the API or functionality can happen at any moment.\n",
      "  warnings.warn('Lazy modules are a new feature under heavy development '\n"
     ]
    }
   ],
   "source": [
    "model_original = nn.Sequential(\n",
    "    nn.LazyConv2d(6, kernel_size=5, padding=2), nn.Sigmoid(),\n",
    "    nn.AvgPool2d(kernel_size=2, stride=2), \n",
    "    nn.LazyConv2d(16, kernel_size=5), nn.Sigmoid(),\n",
    "    nn.AvgPool2d(kernel_size=2, stride=2),\n",
    "    nn.Flatten(),\n",
    "    nn.LazyLinear(120), nn.Sigmoid(),\n",
    "    nn.LazyLinear(84), nn.Sigmoid(),\n",
    "    nn.LazyLinear(10)\n",
    "    )\n",
    "print(model_original)"
   ]
  },
  {
   "cell_type": "code",
   "execution_count": 46,
   "metadata": {},
   "outputs": [
    {
     "name": "stdout",
     "output_type": "stream",
     "text": [
      "Sequential(\n",
      "  (0): LazyConv2d(0, 6, kernel_size=(5, 5), stride=(1, 1), padding=(2, 2))\n",
      "  (1): Sigmoid()\n",
      "  (2): AvgPool2d(kernel_size=2, stride=2, padding=0)\n",
      "  (3): LazyConv2d(0, 16, kernel_size=(5, 5), stride=(1, 1))\n",
      "  (4): Sigmoid()\n",
      "  (5): AvgPool2d(kernel_size=2, stride=2, padding=0)\n",
      "  (6): Flatten(start_dim=1, end_dim=-1)\n",
      "  (7): LazyLinear(in_features=0, out_features=120, bias=True)\n",
      "  (8): Sigmoid()\n",
      "  (9): LazyLinear(in_features=0, out_features=84, bias=True)\n",
      "  (10): Sigmoid()\n",
      "  (11): LazyLinear(in_features=0, out_features=10, bias=True)\n",
      ")\n"
     ]
    }
   ],
   "source": [
    "model_new = nn.Sequential(\n",
    "    nn.LazyConv2d(6, kernel_size=5, padding=2), nn.ReLU(),\n",
    "    nn.MaxPool2d(kernel_size=2, stride=2), \n",
    "    nn.LazyConv2d(16, kernel_size=5), nn.ReLU(),\n",
    "    nn.MaxPool2d(kernel_size=2, stride=2),\n",
    "    nn.Flatten(),\n",
    "    nn.LazyLinear(120), nn.ReLU(),\n",
    "    nn.LazyLinear(84), nn.ReLU(),\n",
    "    nn.LazyLinear(10)\n",
    "    )\n",
    "print(model_original)"
   ]
  },
  {
   "cell_type": "code",
   "execution_count": 47,
   "metadata": {},
   "outputs": [],
   "source": [
    "loss_function = nn.CrossEntropyLoss()\n",
    "optimizer = torch.optim.Adam(model_original.parameters())\n",
    "optimizer_new = torch.optim.Adam(model_new.parameters())"
   ]
  },
  {
   "cell_type": "code",
   "execution_count": 48,
   "metadata": {},
   "outputs": [
    {
     "name": "stdout",
     "output_type": "stream",
     "text": [
      "Training original LeNet.\n",
      "100% Completee\n"
     ]
    }
   ],
   "source": [
    "print(\"Training original LeNet.\")\n",
    "losses = []\n",
    "num_epochs = 1000\n",
    "for epoch in range(num_epochs):\n",
    "    print(f\"{epoch*100/num_epochs}% Complete\", end=\"\\r\")\n",
    "    train_features, train_labels = next(iter(train_dataloader))\n",
    "    predictions = model_original(train_features)\n",
    "    cur_loss = loss_function(predictions, train_labels)\n",
    "    losses.append(cur_loss.item())\n",
    "\n",
    "    model_original.zero_grad()\n",
    "    cur_loss.backward()\n",
    "\n",
    "    optimizer.step()\n",
    "print(f\"100% Complete\", end=\"\\n\")"
   ]
  },
  {
   "cell_type": "code",
   "execution_count": 56,
   "metadata": {},
   "outputs": [
    {
     "name": "stdout",
     "output_type": "stream",
     "text": [
      "Training modified LeNet.\n",
      "100% Completee\n"
     ]
    }
   ],
   "source": [
    "print(\"Training modified LeNet.\")\n",
    "losses_new = []\n",
    "for epoch in range(num_epochs):\n",
    "    print(f\"{epoch*100/num_epochs}% Complete\", end=\"\\r\")\n",
    "    train_features_new, train_labels_new = next(iter(train_dataloader))\n",
    "    predictions_new = model_new(train_features_new)\n",
    "    cur_loss = loss_function(predictions_new, train_labels_new)\n",
    "    losses_new.append(cur_loss.item())\n",
    "\n",
    "    model_new.zero_grad()\n",
    "    cur_loss.backward()\n",
    "\n",
    "    optimizer_new.step()\n",
    "print(f\"100% Complete\", end=\"\\n\")"
   ]
  },
  {
   "cell_type": "code",
   "execution_count": 57,
   "metadata": {},
   "outputs": [
    {
     "data": {
      "image/png": "[encoded data removed]",
      "text/plain": [
       "<Figure size 432x288 with 1 Axes>"
      ]
     },
     "metadata": {
      "needs_background": "light"
     },
     "output_type": "display_data"
    }
   ],
   "source": [
    "plt.plot(losses)\n",
    "plt.ylabel('loss')\n",
    "plt.xlabel('epoch')\n",
    "plt.title(\"Original LeNet\")\n",
    "plt.show()"
   ]
  },
  {
   "cell_type": "code",
   "execution_count": 58,
   "metadata": {},
   "outputs": [
    {
     "data": {
      "image/png": "[encoded data removed]",
      "text/plain": [
       "<Figure size 432x288 with 1 Axes>"
      ]
     },
     "metadata": {
      "needs_background": "light"
     },
     "output_type": "display_data"
    }
   ],
   "source": [
    "plt.plot(losses_new)\n",
    "plt.ylabel('loss')\n",
    "plt.xlabel('epoch')\n",
    "plt.title(\"Modified LeNet\")\n",
    "plt.show()"
   ]
  },
  {
   "cell_type": "code",
   "execution_count": 59,
   "metadata": {},
   "outputs": [],
   "source": [
    "predictions = []\n",
    "y_test = []\n",
    "\n",
    "model_original.eval()\n",
    "with torch.no_grad():\n",
    "    for cur_features, cur_labels in test_dataloader:\n",
    "        y_test.append(cur_labels.numpy())\n",
    "        prediction_scores = model_original(cur_features)\n",
    "        _, cur_predictions = torch.max(prediction_scores.data, 1)\n",
    "        predictions.append(cur_predictions.item())"
   ]
  },
  {
   "cell_type": "code",
   "execution_count": 60,
   "metadata": {},
   "outputs": [],
   "source": [
    "predictions_new = []\n",
    "y_test_new = []\n",
    "\n",
    "model_new.eval()\n",
    "with torch.no_grad():\n",
    "    for cur_features, cur_labels in test_dataloader:\n",
    "        y_test_new.append(cur_labels.numpy())\n",
    "        prediction_scores = model_new(cur_features)\n",
    "        _, cur_predictions = torch.max(prediction_scores.data, 1)\n",
    "        predictions_new.append(cur_predictions.item())"
   ]
  },
  {
   "cell_type": "code",
   "execution_count": 61,
   "metadata": {},
   "outputs": [
    {
     "name": "stdout",
     "output_type": "stream",
     "text": [
      "Original LeNet: 92.37% accuracy\n"
     ]
    }
   ],
   "source": [
    "y_test_np = np.array(y_test).reshape(-1,).astype(int)\n",
    "predictions = np.array(predictions)\n",
    "print(f\"Original LeNet: {sum(y_test_np==predictions)*100/y_test_np.shape[0]}% accuracy\")\n"
   ]
  },
  {
   "cell_type": "code",
   "execution_count": 62,
   "metadata": {},
   "outputs": [
    {
     "name": "stdout",
     "output_type": "stream",
     "text": [
      "Modified LeNet: 97.94% accuracy\n"
     ]
    }
   ],
   "source": [
    "y_test_np_new = np.array(y_test_new).reshape(-1,).astype(int)\n",
    "predictions_new = np.array(predictions_new)\n",
    "print(f\"Modified LeNet: {sum(y_test_np_new==predictions_new)*100/y_test_np_new.shape[0]}% accuracy\")\n"
   ]
  }
 ],
 "metadata": {
  "kernelspec": {
   "display_name": "Python 3",
   "language": "python",
   "name": "python3"
  },
  "language_info": {
   "codemirror_mode": {
    "name": "ipython",
    "version": 3
   },
   "file_extension": ".py",
   "mimetype": "text/x-python",
   "name": "python",
   "nbconvert_exporter": "python",
   "pygments_lexer": "ipython3",
   "version": "3.10.1"
  },
  "orig_nbformat": 4
 },
 "nbformat": 4,
 "nbformat_minor": 2
}
