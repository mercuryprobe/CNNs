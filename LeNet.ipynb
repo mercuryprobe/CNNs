{
 "cells": [
  {
   "attachments": {},
   "cell_type": "markdown",
   "metadata": {},
   "source": [
    "# LeNet\n",
    "This program includes: \n",
    "    - A simple implementation of LeNet (LeCun et al., 1998)\n",
    "    - A modified version of LeNet with trial/error based improvements\n",
    "\n",
    "References: \n",
    "    - Dive Into Deep Learning, A. Zhang et al\n",
    "    - Build a Simple Neural Network Using PyTorch, Ramesh Paudel\n"
   ]
  },
  {
   "cell_type": "code",
   "execution_count": 158,
   "metadata": {},
   "outputs": [],
   "source": [
    "import torch\n",
    "from torch import nn\n",
    "from torchvision.datasets import MNIST\n",
    "from torchvision import transforms\n",
    "from PIL import Image\n",
    "import numpy as np\n",
    "from sklearn.model_selection import train_test_split\n",
    "from torch.utils.data import DataLoader\n",
    "import matplotlib.pyplot as plt"
   ]
  },
  {
   "cell_type": "code",
   "execution_count": 159,
   "metadata": {},
   "outputs": [],
   "source": [
    "train_dataset = MNIST(root=\"./\", train=True, download=True, transform=transforms.ToTensor())\n",
    "test_dataset = MNIST(root=\"./\", train=False, download=True, transform=transforms.ToTensor())"
   ]
  },
  {
   "cell_type": "code",
   "execution_count": 160,
   "metadata": {},
   "outputs": [],
   "source": [
    "train_dataloader = DataLoader(train_dataset, batch_size=128, shuffle=True)\n",
    "test_dataloader = DataLoader(test_dataset, batch_size=1, shuffle=True)"
   ]
  },
  {
   "cell_type": "code",
   "execution_count": 161,
   "metadata": {},
   "outputs": [
    {
     "name": "stdout",
     "output_type": "stream",
     "text": [
      "Sequential(\n",
      "  (0): LazyConv2d(0, 6, kernel_size=(5, 5), stride=(1, 1), padding=(2, 2))\n",
      "  (1): ReLU()\n",
      "  (2): AvgPool2d(kernel_size=2, stride=2, padding=0)\n",
      "  (3): LazyConv2d(0, 16, kernel_size=(5, 5), stride=(1, 1))\n",
      "  (4): ReLU()\n",
      "  (5): AvgPool2d(kernel_size=2, stride=2, padding=0)\n",
      "  (6): Flatten(start_dim=1, end_dim=-1)\n",
      "  (7): LazyLinear(in_features=0, out_features=120, bias=True)\n",
      "  (8): Sigmoid()\n",
      "  (9): LazyLinear(in_features=0, out_features=84, bias=True)\n",
      "  (10): Sigmoid()\n",
      "  (11): LazyLinear(in_features=0, out_features=10, bias=True)\n",
      ")\n"
     ]
    },
    {
     "name": "stderr",
     "output_type": "stream",
     "text": [
      "c:\\Users\\mercu\\AppData\\Local\\Programs\\Python\\Python310\\lib\\site-packages\\torch\\nn\\modules\\lazy.py:178: UserWarning: Lazy modules are a new feature under heavy development so changes to the API or functionality can happen at any moment.\n",
      "  warnings.warn('Lazy modules are a new feature under heavy development '\n"
     ]
    }
   ],
   "source": [
    "model = nn.Sequential(\n",
    "    nn.LazyConv2d(6, kernel_size=5, padding=2), nn.ReLU(),\n",
    "    nn.AvgPool2d(kernel_size=2, stride=2), \n",
    "    nn.LazyConv2d(16, kernel_size=5), nn.ReLU(),\n",
    "    nn.AvgPool2d(kernel_size=2, stride=2),\n",
    "    nn.Flatten(),\n",
    "    nn.LazyLinear(120), nn.Sigmoid(),\n",
    "    nn.LazyLinear(84), nn.Sigmoid(),\n",
    "    nn.LazyLinear(10)\n",
    "    )\n",
    "print(model)"
   ]
  },
  {
   "cell_type": "code",
   "execution_count": 162,
   "metadata": {},
   "outputs": [],
   "source": [
    "loss_function = nn.CrossEntropyLoss()\n",
    "optimizer = torch.optim.Adam(model.parameters())"
   ]
  },
  {
   "cell_type": "code",
   "execution_count": 163,
   "metadata": {},
   "outputs": [
    {
     "name": "stdout",
     "output_type": "stream",
     "text": [
      "52.9% Complete\r"
     ]
    }
   ],
   "source": [
    "losses = []\n",
    "num_epochs = 1000\n",
    "for epoch in range(num_epochs):\n",
    "    print(f\"{epoch*100/num_epochs}% Complete\", end=\"\\r\")\n",
    "    train_features, train_labels = next(iter(train_dataloader))\n",
    "    predictions = model(train_features)\n",
    "    cur_loss = loss_function(predictions, train_labels)\n",
    "    losses.append(cur_loss.item())\n",
    "\n",
    "    model.zero_grad()\n",
    "    cur_loss.backward()\n",
    "\n",
    "    optimizer.step()\n",
    "print()"
   ]
  },
  {
   "cell_type": "code",
   "execution_count": null,
   "metadata": {},
   "outputs": [
    {
     "data": {
      "image/png": "[encoded data removed]",
      "text/plain": [
       "<Figure size 432x288 with 1 Axes>"
      ]
     },
     "metadata": {
      "needs_background": "light"
     },
     "output_type": "display_data"
    }
   ],
   "source": [
    "plt.plot(losses)\n",
    "plt.ylabel('loss')\n",
    "plt.xlabel('epoch')\n",
    "plt.show()"
   ]
  },
  {
   "cell_type": "code",
   "execution_count": null,
   "metadata": {},
   "outputs": [],
   "source": [
    "predictions = []\n",
    "y_test = []\n",
    "\n",
    "model.eval()\n",
    "with torch.no_grad():\n",
    "    for cur_features, cur_labels in test_dataloader:\n",
    "        y_test.append(cur_labels.numpy()[0])\n",
    "        prediction_scores = model(cur_features)\n",
    "        _, cur_predictions = torch.max(prediction_scores.data, 1)\n",
    "        predictions.append(cur_predictions.item())"
   ]
  },
  {
   "cell_type": "code",
   "execution_count": null,
   "metadata": {},
   "outputs": [
    {
     "name": "stdout",
     "output_type": "stream",
     "text": [
      "97.99\n"
     ]
    }
   ],
   "source": [
    "predictions = np.array(predictions).reshape(-1,1)\n",
    "print(100*np.sum(predictions==y_test)/(y_test.shape[0]))"
   ]
  }
 ],
 "metadata": {
  "kernelspec": {
   "display_name": "Python 3",
   "language": "python",
   "name": "python3"
  },
  "language_info": {
   "codemirror_mode": {
    "name": "ipython",
    "version": 3
   },
   "file_extension": ".py",
   "mimetype": "text/x-python",
   "name": "python",
   "nbconvert_exporter": "python",
   "pygments_lexer": "ipython3",
   "version": "3.10.1"
  },
  "orig_nbformat": 4
 },
 "nbformat": 4,
 "nbformat_minor": 2
}
